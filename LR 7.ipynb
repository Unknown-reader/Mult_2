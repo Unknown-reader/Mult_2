{
 "cells": [
  {
   "cell_type": "markdown",
   "id": "a6ee8d06",
   "metadata": {},
   "source": [
    "## ЛР 7\n",
    "## (Медведев К.В. М8О-406Б-21)\n",
    "\n",
    "### Проведение исследований моделями семантической сегментации"
   ]
  },
  {
   "cell_type": "code",
   "execution_count": 3,
   "id": "ffb78adc",
   "metadata": {},
   "outputs": [
    {
     "name": "stdout",
     "output_type": "stream",
     "text": [
      "Downloading from https://www.kaggle.com/api/v1/datasets/download/sadhliroomyprime/football-semantic-segmentation?dataset_version_number=1...\n"
     ]
    },
    {
     "name": "stderr",
     "output_type": "stream",
     "text": [
      "100%|██████████| 68.7M/68.7M [00:07<00:00, 9.71MB/s]"
     ]
    },
    {
     "name": "stdout",
     "output_type": "stream",
     "text": [
      "Extracting files...\n"
     ]
    },
    {
     "name": "stderr",
     "output_type": "stream",
     "text": [
      "\n"
     ]
    },
    {
     "name": "stdout",
     "output_type": "stream",
     "text": [
      "Path to dataset files: C:\\Users\\kirill\\.cache\\kagglehub\\datasets\\sadhliroomyprime\\football-semantic-segmentation\\versions\\1\n"
     ]
    }
   ],
   "source": [
    "import kagglehub\n",
    "\n",
    "# Download latest version\n",
    "path = kagglehub.dataset_download(\"sadhliroomyprime/football-semantic-segmentation\")\n",
    "\n",
    "print(\"Path to dataset files:\", path)"
   ]
  }
 ],
 "metadata": {
  "kernelspec": {
   "display_name": "Python 3",
   "language": "python",
   "name": "python3"
  },
  "language_info": {
   "codemirror_mode": {
    "name": "ipython",
    "version": 3
   },
   "file_extension": ".py",
   "mimetype": "text/x-python",
   "name": "python",
   "nbconvert_exporter": "python",
   "pygments_lexer": "ipython3",
   "version": "3.13.0"
  }
 },
 "nbformat": 4,
 "nbformat_minor": 5
}
